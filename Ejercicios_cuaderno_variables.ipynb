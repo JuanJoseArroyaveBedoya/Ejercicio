{
  "nbformat": 4,
  "nbformat_minor": 0,
  "metadata": {
    "colab": {
      "private_outputs": true,
      "provenance": [],
      "authorship_tag": "ABX9TyO+7VcnpcJegl5NScpHVPIw",
      "include_colab_link": true
    },
    "kernelspec": {
      "name": "python3",
      "display_name": "Python 3"
    },
    "language_info": {
      "name": "python"
    }
  },
  "cells": [
    {
      "cell_type": "markdown",
      "metadata": {
        "id": "view-in-github",
        "colab_type": "text"
      },
      "source": [
        "<a href=\"https://colab.research.google.com/github/JuanJoseArroyaveBedoya/Ejercicio/blob/main/Ejercicios_cuaderno_variables.ipynb\" target=\"_parent\"><img src=\"https://colab.research.google.com/assets/colab-badge.svg\" alt=\"Open In Colab\"/></a>"
      ]
    },
    {
      "cell_type": "markdown",
      "source": [
        "1.) Escribe un programa que muestre en pantalla el resultado de la siguiente operación aritmética: x(t) = ((3 + 2)/2.5)^2 .\n",
        "\n",
        "2.) Escribe un programa que le pida al usuario el número de horas trabajadas y la tarifa por hora. Luego, debe mostrar en pantalla el pago correspondiente.\n",
        "\n",
        "3.) Escribe un programa que le pregunte al usuario su peso (en kg) y su altura (en metros), calcule el índice de masa corporal (IMC), lo guarde en una variable y muestre en pantalla el mensaje \"Tu índice de masa corporal es imc\", donde imc es el IMC calculado redondeado a dos decimales."
      ],
      "metadata": {
        "id": "tQq4Nok4oC0C"
      }
    },
    {
      "cell_type": "code",
      "execution_count": null,
      "metadata": {
        "id": "A2p6Va68n9xy"
      },
      "outputs": [],
      "source": [
        "x=((3+2)/2.5)**2\n",
        "x"
      ]
    },
    {
      "cell_type": "code",
      "source": [
        "Ht=int(input(\"Ingrese el número de horas trabajadas \"))\n",
        "print(\"Su numero de horas trabajadas es de \",Ht)\n",
        "Tr=int(input(\"Ingrese la tarifa por hora trabajada \"))\n",
        "print(\"La tarifa por hora trabajada es \",Tr)\n",
        "Pa=(Ht*Tr)\n",
        "print(\"Su pago es de \",Pa)"
      ],
      "metadata": {
        "id": "cT_wx0w3pA5g"
      },
      "execution_count": null,
      "outputs": []
    },
    {
      "cell_type": "code",
      "source": [
        "p=float(input(\"Ingrese su peso en Kg \"))\n",
        "a=float(input(\"Ingrese su etatura en m \"))\n",
        "imc=p/(a)**2\n",
        "imc_redondeado=round(imc,2)\n",
        "print(f\"Su IMC es de {imc_redondeado}\")"
      ],
      "metadata": {
        "id": "B7qzZp7QqqKL"
      },
      "execution_count": null,
      "outputs": []
    }
  ]
}