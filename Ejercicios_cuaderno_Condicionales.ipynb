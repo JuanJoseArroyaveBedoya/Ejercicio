{
  "nbformat": 4,
  "nbformat_minor": 0,
  "metadata": {
    "colab": {
      "private_outputs": true,
      "provenance": [],
      "authorship_tag": "ABX9TyNIantNnSshiKMHBX+pQhJ/",
      "include_colab_link": true
    },
    "kernelspec": {
      "name": "python3",
      "display_name": "Python 3"
    },
    "language_info": {
      "name": "python"
    }
  },
  "cells": [
    {
      "cell_type": "markdown",
      "metadata": {
        "id": "view-in-github",
        "colab_type": "text"
      },
      "source": [
        "<a href=\"https://colab.research.google.com/github/JuanJoseArroyaveBedoya/Ejercicio/blob/main/Ejercicios_cuaderno_Condicionales.ipynb\" target=\"_parent\"><img src=\"https://colab.research.google.com/assets/colab-badge.svg\" alt=\"Open In Colab\"/></a>"
      ]
    },
    {
      "cell_type": "markdown",
      "source": [
        "1.) Para poder pagar un impuesto determinado, debes tener más de 16 años y tener un ingreso mensual igual o mayor a 1000 €. Escribe un programa que le pida al usuario su edad e ingreso mensual, y muestre si el usuario tiene que pagar el impuesto o no.\n",
        "\n",
        "2.) La pizzería Bella Napoli ofrece pizzas vegetarianas y no vegetarianas a sus clientes. Los ingredientes para cada tipo de pizza son los siguientes:\n",
        "Ingredientes vegetarianos: Pimientos y tofu.\n",
        "Ingredientes no vegetarianos: Pepperoni, Jamón y Salmón.\n",
        "Escribe un programa que le pregunte al usuario si quiere una pizza vegetariana o no, y en función de su respuesta, muestre un menú con los ingredientes disponibles para que elija. Solo se puede elegir un ingrediente adicional además de la mozzarella y el tomate, que se incluyen en todas las pizzas. Finalmente, el programa debe mostrar si la pizza elegida es vegetariana o no, junto con todos los ingredientes que contiene."
      ],
      "metadata": {
        "id": "OlP7tARiww4q"
      }
    },
    {
      "cell_type": "code",
      "execution_count": null,
      "metadata": {
        "id": "PZD1PFQRvxzj"
      },
      "outputs": [],
      "source": [
        "ed=int(input(\"Ingrese su edad en años \"))\n",
        "ing=float(input(\"Digite su ingreso mensual en € \"))\n",
        "if ed>16 and ing>=1000:\n",
        "  print(\"Usted debe pagar impuestos\")\n",
        "else:\n",
        "  print(\"Usted no debe pagar impuestos\")"
      ]
    },
    {
      "cell_type": "code",
      "source": [
        "ti=int(input(\"Que tipo de pizza desea \\n1) Vegetariana\\n2) No vegetariana\\n\"))\n",
        "ingreveg=[\"Pimientos\",\"Tofu\"]\n",
        "ingreNoveg=[\"Pepperoni\", \"Jamón\", \"Salmón\"]\n",
        "if ti!=1:\n",
        "  ing=int(input(\"Lo ingredientes son:\\nMozzarella y Tomate\\nEl opcional puede ser:\\n1.) Pepperoni\\n2.) Jamón\\n3.) Salmón\\n \"))\n",
        "  print(\"Usted eligió pizza No vegetariana\")\n",
        "  print(f\"Los ingredientes son Mozzarella,Tomate y {ingreNoveg[ing-1]}\")\n",
        "\n",
        "else:\n",
        "  ing=int(input(\"Lo ingredientes son:\\nMozzarella y Tomate\\nEl opcional puede ser:\\n1.) Pimientos\\n2.) Tofu\\n \"))\n",
        "  print(\"Usted eligió pizza vegetariana\")\n",
        "  print(f\"Los ingredientes son Mozzarella,Tomate y {ingreveg[ing-1]}\")"
      ],
      "metadata": {
        "id": "HW_VQLJOzcdE"
      },
      "execution_count": null,
      "outputs": []
    }
  ]
}