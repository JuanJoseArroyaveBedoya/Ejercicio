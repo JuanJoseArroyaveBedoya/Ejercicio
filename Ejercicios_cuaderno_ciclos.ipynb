{
  "nbformat": 4,
  "nbformat_minor": 0,
  "metadata": {
    "colab": {
      "private_outputs": true,
      "provenance": [],
      "authorship_tag": "ABX9TyP42XjelS+BR0nxDjcbRMdE",
      "include_colab_link": true
    },
    "kernelspec": {
      "name": "python3",
      "display_name": "Python 3"
    },
    "language_info": {
      "name": "python"
    }
  },
  "cells": [
    {
      "cell_type": "markdown",
      "metadata": {
        "id": "view-in-github",
        "colab_type": "text"
      },
      "source": [
        "<a href=\"https://colab.research.google.com/github/JuanJoseArroyaveBedoya/Ejercicio/blob/main/Ejercicios_cuaderno_ciclos.ipynb\" target=\"_parent\"><img src=\"https://colab.research.google.com/assets/colab-badge.svg\" alt=\"Open In Colab\"/></a>"
      ]
    },
    {
      "cell_type": "markdown",
      "source": [
        "1.) Escribe un código que le pida al usuario ingresar un número entero cada vez, y el proceso se repetirá con más números hasta que el usuario ingrese un cero.\n",
        "\n",
        "Al final (cuando se ingrese el cero), muestra la cantidad de números ingresados.\n",
        "\n",
        "2.) Utiliza la función input() para pedir al usuario que ingrese un número entero. Solo si el número es par, se acumulará.\n",
        "\n",
        "El programa debe finalizar si la suma de los números supera 50 o si el usuario ingresa un máximo de 10 números.\n",
        "\n",
        "\n",
        "\n",
        "\n"
      ],
      "metadata": {
        "id": "60lJVWYF6iJu"
      }
    },
    {
      "cell_type": "code",
      "execution_count": null,
      "metadata": {
        "id": "g77y3dOW6Zn-"
      },
      "outputs": [],
      "source": [
        "x=1\n",
        "while (x!=0):\n",
        "  x=int(input(\"Ingrese un numero, para salir ingrese un 0\\n\"))"
      ]
    },
    {
      "cell_type": "code",
      "source": [
        "an=0\n",
        "sum=0\n",
        "while((an<10)and(sum<=50)):\n",
        "  c=int(input(\"Ingrese un numero par\\n\"))\n",
        "  par=c%2\n",
        "  if par==0:\n",
        "    an+=1\n",
        "    sum+=c"
      ],
      "metadata": {
        "id": "g7Hj4NvS8FXv"
      },
      "execution_count": null,
      "outputs": []
    }
  ]
}